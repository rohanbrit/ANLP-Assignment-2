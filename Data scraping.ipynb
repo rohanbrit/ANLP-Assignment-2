{
 "cells": [
  {
   "cell_type": "markdown",
   "id": "b5e7ddfc",
   "metadata": {},
   "source": [
    "# Assignment 2 Part B\n",
    "\n",
    "## Harmony Heals \n",
    "\n",
    "### Project by RAS (Group 45)\n",
    "- Rohan Britto (Student ID: 24610990)\n",
    "- Aaditya Deshmukh (Student ID: )\n",
    "- Smit Khatri (Student ID: )"
   ]
  },
  {
   "cell_type": "markdown",
   "id": "53b358b2",
   "metadata": {},
   "source": [
    "## Installing and importing packages"
   ]
  },
  {
   "cell_type": "markdown",
   "id": "3931b10d",
   "metadata": {},
   "source": [
    "We will start with installing and importing the Musixmatch API that will help us to download song lyrics from Musixmatch server"
   ]
  },
  {
   "cell_type": "code",
   "execution_count": 31,
   "id": "4446a6c9",
   "metadata": {},
   "outputs": [
    {
     "name": "stdout",
     "output_type": "stream",
     "text": [
      "Requirement already satisfied: pymusixmatch in c:\\users\\rohan\\anaconda3\\lib\\site-packages (0.3)\n",
      "Requirement already satisfied: requests in c:\\users\\rohan\\anaconda3\\lib\\site-packages (from pymusixmatch) (2.28.1)\n",
      "Requirement already satisfied: idna<4,>=2.5 in c:\\users\\rohan\\anaconda3\\lib\\site-packages (from requests->pymusixmatch) (3.3)\n",
      "Requirement already satisfied: certifi>=2017.4.17 in c:\\users\\rohan\\anaconda3\\lib\\site-packages (from requests->pymusixmatch) (2022.9.14)\n",
      "Requirement already satisfied: urllib3<1.27,>=1.21.1 in c:\\users\\rohan\\anaconda3\\lib\\site-packages (from requests->pymusixmatch) (1.26.11)\n",
      "Requirement already satisfied: charset-normalizer<3,>=2 in c:\\users\\rohan\\anaconda3\\lib\\site-packages (from requests->pymusixmatch) (2.0.4)\n",
      "Note: you may need to restart the kernel to use updated packages.\n"
     ]
    }
   ],
   "source": [
    "pip install pymusixmatch"
   ]
  },
  {
   "cell_type": "markdown",
   "id": "1164b006",
   "metadata": {},
   "source": [
    "We have set the developer App ID received from the web portal for authentication"
   ]
  },
  {
   "cell_type": "code",
   "execution_count": 41,
   "id": "d37a6545",
   "metadata": {},
   "outputs": [],
   "source": [
    "from musixmatch import Musixmatch\n",
    "musixmatch = Musixmatch('7a20605876836eb989b52ac404eaba72') # Musixmatch App ID"
   ]
  },
  {
   "cell_type": "markdown",
   "id": "8d761637",
   "metadata": {},
   "source": [
    "Importing pandas and numpy"
   ]
  },
  {
   "cell_type": "code",
   "execution_count": 35,
   "id": "0fb2d6d0",
   "metadata": {},
   "outputs": [],
   "source": [
    "import pandas as pd\n",
    "import numpy as np"
   ]
  },
  {
   "cell_type": "markdown",
   "id": "2ce2146e",
   "metadata": {},
   "source": [
    "## Importing the data and analyzing it"
   ]
  },
  {
   "cell_type": "markdown",
   "id": "f84c3efe",
   "metadata": {},
   "source": [
    "Reading the dataset into a pandas dataframe. We manually created a duplicate of the dataset from Kaggle and added a lyrics column to it"
   ]
  },
  {
   "cell_type": "code",
   "execution_count": 42,
   "id": "b818a45f",
   "metadata": {},
   "outputs": [],
   "source": [
    "df = pd.read_csv('Datasets/muse_v3_lyrics.csv',dtype={'lyrics':object})"
   ]
  },
  {
   "cell_type": "code",
   "execution_count": 37,
   "id": "6bea14c9",
   "metadata": {},
   "outputs": [
    {
     "data": {
      "text/plain": [
       "(90001, 12)"
      ]
     },
     "execution_count": 37,
     "metadata": {},
     "output_type": "execute_result"
    }
   ],
   "source": [
    "df.shape"
   ]
  },
  {
   "cell_type": "code",
   "execution_count": 38,
   "id": "2230e5a7",
   "metadata": {
    "scrolled": true
   },
   "outputs": [
    {
     "data": {
      "text/html": [
       "<div>\n",
       "<style scoped>\n",
       "    .dataframe tbody tr th:only-of-type {\n",
       "        vertical-align: middle;\n",
       "    }\n",
       "\n",
       "    .dataframe tbody tr th {\n",
       "        vertical-align: top;\n",
       "    }\n",
       "\n",
       "    .dataframe thead th {\n",
       "        text-align: right;\n",
       "    }\n",
       "</style>\n",
       "<table border=\"1\" class=\"dataframe\">\n",
       "  <thead>\n",
       "    <tr style=\"text-align: right;\">\n",
       "      <th></th>\n",
       "      <th>lastfm_url</th>\n",
       "      <th>track</th>\n",
       "      <th>artist</th>\n",
       "      <th>seeds</th>\n",
       "      <th>number_of_emotion_tags</th>\n",
       "      <th>valence_tags</th>\n",
       "      <th>arousal_tags</th>\n",
       "      <th>dominance_tags</th>\n",
       "      <th>mbid</th>\n",
       "      <th>spotify_id</th>\n",
       "      <th>genre</th>\n",
       "      <th>lyrics</th>\n",
       "    </tr>\n",
       "  </thead>\n",
       "  <tbody>\n",
       "    <tr>\n",
       "      <th>0</th>\n",
       "      <td>https://www.last.fm/music/eminem/_/%2527till%2...</td>\n",
       "      <td>'Till I Collapse</td>\n",
       "      <td>Eminem</td>\n",
       "      <td>['aggressive']</td>\n",
       "      <td>6</td>\n",
       "      <td>4.550000</td>\n",
       "      <td>5.273125</td>\n",
       "      <td>5.690625</td>\n",
       "      <td>cab93def-26c5-4fb0-bedd-26ec4c1619e1</td>\n",
       "      <td>4xkOaSrkexMciUUogZKVTS</td>\n",
       "      <td>rap</td>\n",
       "      <td>Not Found</td>\n",
       "    </tr>\n",
       "    <tr>\n",
       "      <th>1</th>\n",
       "      <td>https://www.last.fm/music/metallica/_/st.%2banger</td>\n",
       "      <td>St. Anger</td>\n",
       "      <td>Metallica</td>\n",
       "      <td>['aggressive']</td>\n",
       "      <td>8</td>\n",
       "      <td>3.710000</td>\n",
       "      <td>5.833000</td>\n",
       "      <td>5.427250</td>\n",
       "      <td>727a2529-7ee8-4860-aef6-7959884895cb</td>\n",
       "      <td>3fOc9x06lKJBhz435mInlH</td>\n",
       "      <td>metal</td>\n",
       "      <td>St. Anger 'round my neck\\nSt. Anger 'round my ...</td>\n",
       "    </tr>\n",
       "    <tr>\n",
       "      <th>2</th>\n",
       "      <td>https://www.last.fm/music/rick%2bross/_/speedi...</td>\n",
       "      <td>Speedin'</td>\n",
       "      <td>Rick Ross</td>\n",
       "      <td>['aggressive']</td>\n",
       "      <td>1</td>\n",
       "      <td>3.080000</td>\n",
       "      <td>5.870000</td>\n",
       "      <td>5.490000</td>\n",
       "      <td>NaN</td>\n",
       "      <td>3Y96xd4Ce0J47dcalLrEC8</td>\n",
       "      <td>rap</td>\n",
       "      <td>Legendary, Runners, you know me, o ooooh, o oo...</td>\n",
       "    </tr>\n",
       "    <tr>\n",
       "      <th>3</th>\n",
       "      <td>https://www.last.fm/music/m.i.a./_/bamboo%2bbanga</td>\n",
       "      <td>Bamboo Banga</td>\n",
       "      <td>M.I.A.</td>\n",
       "      <td>['aggressive', 'fun', 'sexy', 'energetic']</td>\n",
       "      <td>13</td>\n",
       "      <td>6.555071</td>\n",
       "      <td>5.537214</td>\n",
       "      <td>5.691357</td>\n",
       "      <td>99dd2c8c-e7c1-413e-8ea4-4497a00ffa18</td>\n",
       "      <td>6tqFC1DIOphJkCwrjVzPmg</td>\n",
       "      <td>hip-hop</td>\n",
       "      <td>Road runner, road runner\\nGoing hundred miles ...</td>\n",
       "    </tr>\n",
       "    <tr>\n",
       "      <th>4</th>\n",
       "      <td>https://www.last.fm/music/dope/_/die%2bmf%2bdie</td>\n",
       "      <td>Die MF Die</td>\n",
       "      <td>Dope</td>\n",
       "      <td>['aggressive']</td>\n",
       "      <td>7</td>\n",
       "      <td>3.771176</td>\n",
       "      <td>5.348235</td>\n",
       "      <td>5.441765</td>\n",
       "      <td>b9eb3484-5e0e-4690-ab5a-ca91937032a5</td>\n",
       "      <td>5bU4KX47KqtDKKaLM4QCzh</td>\n",
       "      <td>metal</td>\n",
       "      <td>I don't need your forgiveness\\nI don't need yo...</td>\n",
       "    </tr>\n",
       "  </tbody>\n",
       "</table>\n",
       "</div>"
      ],
      "text/plain": [
       "                                          lastfm_url             track  \\\n",
       "0  https://www.last.fm/music/eminem/_/%2527till%2...  'Till I Collapse   \n",
       "1  https://www.last.fm/music/metallica/_/st.%2banger         St. Anger   \n",
       "2  https://www.last.fm/music/rick%2bross/_/speedi...          Speedin'   \n",
       "3  https://www.last.fm/music/m.i.a./_/bamboo%2bbanga      Bamboo Banga   \n",
       "4    https://www.last.fm/music/dope/_/die%2bmf%2bdie        Die MF Die   \n",
       "\n",
       "      artist                                       seeds  \\\n",
       "0     Eminem                              ['aggressive']   \n",
       "1  Metallica                              ['aggressive']   \n",
       "2  Rick Ross                              ['aggressive']   \n",
       "3     M.I.A.  ['aggressive', 'fun', 'sexy', 'energetic']   \n",
       "4       Dope                              ['aggressive']   \n",
       "\n",
       "   number_of_emotion_tags  valence_tags  arousal_tags  dominance_tags  \\\n",
       "0                       6      4.550000      5.273125        5.690625   \n",
       "1                       8      3.710000      5.833000        5.427250   \n",
       "2                       1      3.080000      5.870000        5.490000   \n",
       "3                      13      6.555071      5.537214        5.691357   \n",
       "4                       7      3.771176      5.348235        5.441765   \n",
       "\n",
       "                                   mbid              spotify_id    genre  \\\n",
       "0  cab93def-26c5-4fb0-bedd-26ec4c1619e1  4xkOaSrkexMciUUogZKVTS      rap   \n",
       "1  727a2529-7ee8-4860-aef6-7959884895cb  3fOc9x06lKJBhz435mInlH    metal   \n",
       "2                                   NaN  3Y96xd4Ce0J47dcalLrEC8      rap   \n",
       "3  99dd2c8c-e7c1-413e-8ea4-4497a00ffa18  6tqFC1DIOphJkCwrjVzPmg  hip-hop   \n",
       "4  b9eb3484-5e0e-4690-ab5a-ca91937032a5  5bU4KX47KqtDKKaLM4QCzh    metal   \n",
       "\n",
       "                                              lyrics  \n",
       "0                                          Not Found  \n",
       "1  St. Anger 'round my neck\\nSt. Anger 'round my ...  \n",
       "2  Legendary, Runners, you know me, o ooooh, o oo...  \n",
       "3  Road runner, road runner\\nGoing hundred miles ...  \n",
       "4  I don't need your forgiveness\\nI don't need yo...  "
      ]
     },
     "execution_count": 38,
     "metadata": {},
     "output_type": "execute_result"
    }
   ],
   "source": [
    "df.head()"
   ]
  },
  {
   "cell_type": "markdown",
   "id": "c79267b9",
   "metadata": {},
   "source": [
    "As MusixMatch allows downloading only 2000 song lyrics per day and we were targetting a minimum of 12,000 english songs, it took us multiple days to download the lyrics. Each day we had to resume from where we left off on the prior day. To achieve this, we read the rows that had Nan values in the lyrics column and started the download for these."
   ]
  },
  {
   "cell_type": "code",
   "execution_count": 64,
   "id": "568698b6",
   "metadata": {},
   "outputs": [
    {
     "name": "stdout",
     "output_type": "stream",
     "text": [
      "[29342 29343 29344 ... 89998 89999 90000]\n"
     ]
    }
   ],
   "source": [
    "lyrics_nan = np.where(pd.isnull(df['lyrics']))\n",
    "lyrics_nan = lyrics_nan[0]\n",
    "print(lyrics_nan)"
   ]
  },
  {
   "cell_type": "markdown",
   "id": "5cf700cb",
   "metadata": {},
   "source": [
    "We set the maximum download limit in a run to 500 as exceeding this led to a timeout error."
   ]
  },
  {
   "cell_type": "markdown",
   "id": "b36ba84a",
   "metadata": {},
   "source": [
    "Some songs returned a status code 404 (Not Found) or Authorization exception. This was handled in the code and appropriate messages were added so that we could remove them during the data cleaning process."
   ]
  },
  {
   "cell_type": "code",
   "execution_count": 65,
   "id": "7cf04d49",
   "metadata": {},
   "outputs": [
    {
     "name": "stdout",
     "output_type": "stream",
     "text": [
      "april.#02 :  KASHIWA Daisuke :  {'message': {'header': {'status_code': 401, 'execute_time': 0.0018990039825439}, 'body': []}}\n"
     ]
    }
   ],
   "source": [
    "count = 0\n",
    "error_count = 0\n",
    "max_download = 500\n",
    "\n",
    "for index in lyrics_nan:\n",
    "    response = musixmatch.matcher_lyrics_get(df.at[index,'track'],df.at[index,'artist'])\n",
    "\n",
    "    try:\n",
    "        if response['message']['header']['status_code'] in [404] or response['message']['body']['lyrics']['lyrics_body'] == '':\n",
    "            lyrics = 'Not Found'\n",
    "        else:\n",
    "            lyrics = response['message']['body']['lyrics']['lyrics_body']\n",
    "\n",
    "    except TypeError:\n",
    "        print(df.at[index,'track'],\": \",df.at[index,'artist'],\": \",response)\n",
    "        lyrics = 'Auth Issue'\n",
    "        error_count += 1\n",
    "        if error_count >= 5:\n",
    "            break\n",
    "\n",
    "    df.at[index,'lyrics']=lyrics.replace('...\\n\\n******* This Lyrics is NOT for Commercial use *******','')\n",
    "\n",
    "    count+=1\n",
    "    if count >= max_download:\n",
    "        break"
   ]
  },
  {
   "cell_type": "markdown",
   "id": "7a96a9ad",
   "metadata": {},
   "source": [
    "Finally, the dataframe was written back to the same file, so that it could be used again on the next day for downloading the next song lyrics."
   ]
  },
  {
   "cell_type": "code",
   "execution_count": 66,
   "id": "05ccba1c",
   "metadata": {},
   "outputs": [],
   "source": [
    "df.to_csv('Datasets/muse_v3_lyrics.csv',index=False)"
   ]
  }
 ],
 "metadata": {
  "kernelspec": {
   "display_name": "Python 3 (ipykernel)",
   "language": "python",
   "name": "python3"
  },
  "language_info": {
   "codemirror_mode": {
    "name": "ipython",
    "version": 3
   },
   "file_extension": ".py",
   "mimetype": "text/x-python",
   "name": "python",
   "nbconvert_exporter": "python",
   "pygments_lexer": "ipython3",
   "version": "3.9.13"
  }
 },
 "nbformat": 4,
 "nbformat_minor": 5
}
