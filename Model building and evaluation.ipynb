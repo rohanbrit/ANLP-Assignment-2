{
 "cells": [
  {
   "cell_type": "markdown",
   "id": "fe07c5ee",
   "metadata": {},
   "source": [
    "# Assignment 2 Part B\n",
    "\n",
    "## Harmony Heals \n",
    "\n",
    "### Project by RAS (Group 45)\n",
    "- Rohan Britto (Student ID: 24610990)\n",
    "- Aaditya Deshmukh (Student ID: 14334864)\n",
    "- Smit Khatri (Student ID: 24712248)"
   ]
  },
  {
   "cell_type": "markdown",
   "id": "010f2043",
   "metadata": {},
   "source": [
    "## Importing packages and data"
   ]
  },
  {
   "cell_type": "code",
   "execution_count": 43,
   "id": "b8e62101",
   "metadata": {},
   "outputs": [],
   "source": [
    "import pandas as pd\n",
    "import numpy as np"
   ]
  },
  {
   "cell_type": "code",
   "execution_count": 44,
   "id": "9061d553",
   "metadata": {},
   "outputs": [],
   "source": [
    "X_train = pd.read_pickle('Datasets/X_train.pkl')\n",
    "X_val = pd.read_pickle('Datasets/X_val.pkl')\n",
    "X_test = pd.read_pickle('Datasets/X_test.pkl')\n",
    "\n",
    "y_train = pd.read_pickle('Datasets/y_train.pkl')\n",
    "y_val = pd.read_pickle('Datasets/y_val.pkl')\n",
    "y_test = pd.read_pickle('Datasets/y_test.pkl')"
   ]
  },
  {
   "cell_type": "markdown",
   "id": "343a63bb",
   "metadata": {},
   "source": [
    "## Function for Evaluation"
   ]
  },
  {
   "cell_type": "code",
   "execution_count": 45,
   "id": "592747d8",
   "metadata": {},
   "outputs": [],
   "source": [
    "from sklearn.metrics import mean_squared_error\n",
    "from sklearn.metrics import mean_absolute_error\n",
    "from sklearn.metrics import r2_score"
   ]
  },
  {
   "cell_type": "code",
   "execution_count": 46,
   "id": "931ac6dc",
   "metadata": {},
   "outputs": [],
   "source": [
    "def evaluate_model():\n",
    "    print(\"The Mean Absolute Error for the training set: \", mean_absolute_error(y_train,y_train_pred))\n",
    "    print(\"The Mean Absolute Error for the validation set: \", mean_absolute_error(y_val,y_val_pred))\n",
    "    print(\"The Mean Squared Error for the training set: \", mean_squared_error(y_train,y_train_pred))\n",
    "    print(\"The Mean Squared Error for the validation set: \", mean_squared_error(y_val,y_val_pred))\n",
    "    print(\"The R Squared value for the training set: \", r2_score(y_train,y_train_pred))\n",
    "    print(\"The R Squared value for the validation set: \", r2_score(y_val,y_val_pred))"
   ]
  },
  {
   "cell_type": "markdown",
   "id": "84e43ae2",
   "metadata": {},
   "source": [
    "## Base Model"
   ]
  },
  {
   "cell_type": "code",
   "execution_count": 47,
   "id": "b226b0ec",
   "metadata": {},
   "outputs": [
    {
     "name": "stdout",
     "output_type": "stream",
     "text": [
      "The Mean Absolute Error for the base model:  1.2619619984703032\n",
      "The Mean Squared Error for the base model:  2.2347442237918167\n",
      "The R Squared value for the base model:  0.0\n"
     ]
    }
   ],
   "source": [
    "mean_value = np.mean(y_train)\n",
    "y_mean = np.full(y_train.shape,mean_value)\n",
    "\n",
    "print(\"The Mean Absolute Error for the base model: \", mean_absolute_error(y_train,y_mean))\n",
    "print(\"The Mean Squared Error for the base model: \", mean_squared_error(y_train,y_mean))\n",
    "print(\"The R Squared value for the base model: \", r2_score(y_train,y_mean))"
   ]
  },
  {
   "cell_type": "markdown",
   "id": "2de27cb3",
   "metadata": {},
   "source": [
    "## Decision Tree"
   ]
  },
  {
   "cell_type": "code",
   "execution_count": 48,
   "id": "ef7011c2",
   "metadata": {},
   "outputs": [],
   "source": [
    "from sklearn.tree import DecisionTreeRegressor"
   ]
  },
  {
   "cell_type": "code",
   "execution_count": 49,
   "id": "d8f9226e",
   "metadata": {},
   "outputs": [
    {
     "data": {
      "text/plain": [
       "DecisionTreeRegressor(max_depth=6, min_samples_leaf=10, min_samples_split=250,\n",
       "                      random_state=8)"
      ]
     },
     "execution_count": 49,
     "metadata": {},
     "output_type": "execute_result"
    }
   ],
   "source": [
    "dtmodel = DecisionTreeRegressor(random_state=8, min_samples_split=250, min_samples_leaf=10, max_depth=6)\n",
    "dtmodel.fit(X_train, y_train)"
   ]
  },
  {
   "cell_type": "code",
   "execution_count": 50,
   "id": "4d58a8f3",
   "metadata": {},
   "outputs": [],
   "source": [
    "y_train_pred = dtmodel.predict(X_train)\n",
    "y_val_pred = dtmodel.predict(X_val)"
   ]
  },
  {
   "cell_type": "code",
   "execution_count": 51,
   "id": "a533a862",
   "metadata": {},
   "outputs": [
    {
     "name": "stdout",
     "output_type": "stream",
     "text": [
      "The Mean Absolute Error for the training set:  0.43112039089759846\n",
      "The Mean Absolute Error for the validation set:  0.44442395665096873\n",
      "The Mean Squared Error for the training set:  0.33950162072056067\n",
      "The Mean Squared Error for the validation set:  0.3587351367123852\n",
      "The R Squared value for the training set:  0.8480803229711411\n",
      "The R Squared value for the validation set:  0.8469537879122326\n"
     ]
    }
   ],
   "source": [
    "evaluate_model()"
   ]
  },
  {
   "cell_type": "markdown",
   "id": "e208c463",
   "metadata": {},
   "source": [
    "## Random Forest"
   ]
  },
  {
   "cell_type": "code",
   "execution_count": 52,
   "id": "0a915434",
   "metadata": {},
   "outputs": [],
   "source": [
    "from sklearn.ensemble import RandomForestRegressor"
   ]
  },
  {
   "cell_type": "code",
   "execution_count": 53,
   "id": "e62bffab",
   "metadata": {},
   "outputs": [
    {
     "data": {
      "text/plain": [
       "RandomForestRegressor(max_depth=6, min_samples_leaf=10, min_samples_split=250,\n",
       "                      random_state=8)"
      ]
     },
     "execution_count": 53,
     "metadata": {},
     "output_type": "execute_result"
    }
   ],
   "source": [
    "rfmodel = RandomForestRegressor(random_state=8, min_samples_split=250, min_samples_leaf=10, max_depth=6, n_estimators=100)\n",
    "rfmodel.fit(X_train, y_train)"
   ]
  },
  {
   "cell_type": "code",
   "execution_count": 54,
   "id": "f78c5c99",
   "metadata": {},
   "outputs": [],
   "source": [
    "y_train_pred = rfmodel.predict(X_train)\n",
    "y_val_pred = rfmodel.predict(X_val)"
   ]
  },
  {
   "cell_type": "code",
   "execution_count": 55,
   "id": "21cbab84",
   "metadata": {},
   "outputs": [
    {
     "name": "stdout",
     "output_type": "stream",
     "text": [
      "The Mean Absolute Error for the training set:  0.4340206476106634\n",
      "The Mean Absolute Error for the validation set:  0.4433867044680284\n",
      "The Mean Squared Error for the training set:  0.33052436825174425\n",
      "The Mean Squared Error for the validation set:  0.3464257690064089\n",
      "The R Squared value for the training set:  0.8520974504675417\n",
      "The R Squared value for the validation set:  0.8522053005403518\n"
     ]
    }
   ],
   "source": [
    "evaluate_model()"
   ]
  },
  {
   "cell_type": "markdown",
   "id": "d41f0257",
   "metadata": {},
   "source": [
    "## Neural Network"
   ]
  },
  {
   "cell_type": "code",
   "execution_count": 56,
   "id": "57f2dd78",
   "metadata": {},
   "outputs": [],
   "source": [
    "from sklearn.neural_network import MLPRegressor"
   ]
  },
  {
   "cell_type": "code",
   "execution_count": 57,
   "id": "d1311a06",
   "metadata": {},
   "outputs": [],
   "source": [
    "hidden_layers = [128,64]\n",
    "hidden_activation = 'relu'\n",
    "solver_algo = 'adam'\n",
    "lr_init = 0.0008\n",
    "lr = 'constant'\n",
    "batch_size = 32\n",
    "epochs = 5"
   ]
  },
  {
   "cell_type": "code",
   "execution_count": 58,
   "id": "4b596061",
   "metadata": {},
   "outputs": [],
   "source": [
    "nnmodel = MLPRegressor(\n",
    "    hidden_layer_sizes=hidden_layers, \n",
    "    batch_size=batch_size, \n",
    "    activation=hidden_activation, \n",
    "    solver=solver_algo, \n",
    "    learning_rate_init=lr_init, \n",
    "    learning_rate = lr,\n",
    "    max_iter=epochs,\n",
    "    random_state=8\n",
    ")"
   ]
  },
  {
   "cell_type": "code",
   "execution_count": 59,
   "id": "a95793a4",
   "metadata": {},
   "outputs": [
    {
     "name": "stderr",
     "output_type": "stream",
     "text": [
      "C:\\Users\\Rohan\\Anaconda3\\lib\\site-packages\\sklearn\\neural_network\\_multilayer_perceptron.py:692: ConvergenceWarning: Stochastic Optimizer: Maximum iterations (5) reached and the optimization hasn't converged yet.\n",
      "  warnings.warn(\n"
     ]
    },
    {
     "data": {
      "text/plain": [
       "MLPRegressor(batch_size=32, hidden_layer_sizes=[128, 64],\n",
       "             learning_rate_init=0.0008, max_iter=5, random_state=8)"
      ]
     },
     "execution_count": 59,
     "metadata": {},
     "output_type": "execute_result"
    }
   ],
   "source": [
    "nnmodel.fit(X_train, y_train)"
   ]
  },
  {
   "cell_type": "code",
   "execution_count": 60,
   "id": "6a75dbc7",
   "metadata": {},
   "outputs": [],
   "source": [
    "y_train_pred = nnmodel.predict(X_train)\n",
    "y_val_pred = nnmodel.predict(X_val)"
   ]
  },
  {
   "cell_type": "code",
   "execution_count": 61,
   "id": "dba8c353",
   "metadata": {},
   "outputs": [
    {
     "name": "stdout",
     "output_type": "stream",
     "text": [
      "The Mean Absolute Error for the training set:  0.5154122990376628\n",
      "The Mean Absolute Error for the validation set:  0.5825185649930118\n",
      "The Mean Squared Error for the training set:  0.45222871841534135\n",
      "The Mean Squared Error for the validation set:  0.5708716915089742\n",
      "The R Squared value for the training set:  0.7976373700395926\n",
      "The R Squared value for the validation set:  0.7564505368103003\n"
     ]
    }
   ],
   "source": [
    "evaluate_model()"
   ]
  },
  {
   "cell_type": "markdown",
   "id": "dec0159b",
   "metadata": {},
   "source": [
    "## Testing and Results"
   ]
  },
  {
   "cell_type": "markdown",
   "id": "6eccbbbc",
   "metadata": {},
   "source": [
    "Comparing all these models, Random Forest seems to perform best. We will use this model on the testing set for a final check."
   ]
  },
  {
   "cell_type": "code",
   "execution_count": 62,
   "id": "d92748a1",
   "metadata": {},
   "outputs": [],
   "source": [
    "y_test_pred = rfmodel.predict(X_test)"
   ]
  },
  {
   "cell_type": "code",
   "execution_count": 63,
   "id": "42c3a5c2",
   "metadata": {},
   "outputs": [
    {
     "name": "stdout",
     "output_type": "stream",
     "text": [
      "The Mean Absolute Error for the testing set:  0.45854692382272855\n",
      "The Mean Squared Error for the testing set:  0.370479218169663\n",
      "The R Squared value for the testing set:  0.828156750361958\n"
     ]
    }
   ],
   "source": [
    "print(\"The Mean Absolute Error for the testing set: \", mean_absolute_error(y_test,y_test_pred))\n",
    "print(\"The Mean Squared Error for the testing set: \", mean_squared_error(y_test,y_test_pred))\n",
    "print(\"The R Squared value for the testing set: \", r2_score(y_test,y_test_pred))"
   ]
  },
  {
   "cell_type": "markdown",
   "id": "dd417f49",
   "metadata": {},
   "source": [
    "The model seems to be performing well but there is a slight overfitting noticed. We will continue with this model for predicting the valence number as the difference is not really high."
   ]
  }
 ],
 "metadata": {
  "kernelspec": {
   "display_name": "Python 3 (ipykernel)",
   "language": "python",
   "name": "python3"
  },
  "language_info": {
   "codemirror_mode": {
    "name": "ipython",
    "version": 3
   },
   "file_extension": ".py",
   "mimetype": "text/x-python",
   "name": "python",
   "nbconvert_exporter": "python",
   "pygments_lexer": "ipython3",
   "version": "3.9.13"
  }
 },
 "nbformat": 4,
 "nbformat_minor": 5
}
