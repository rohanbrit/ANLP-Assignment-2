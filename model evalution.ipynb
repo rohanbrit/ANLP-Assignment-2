{
 "cells": [
  {
   "cell_type": "code",
   "execution_count": 1,
   "id": "84fc0e47",
   "metadata": {},
   "outputs": [],
   "source": [
    "import pandas as pd\n",
    "import numpy as np"
   ]
  },
  {
   "cell_type": "code",
   "execution_count": 2,
   "id": "1fa033bf",
   "metadata": {},
   "outputs": [],
   "source": [
    "X_train = pd.read_pickle('Datasets/X_train.pkl')\n",
    "X_val = pd.read_pickle('Datasets/X_val.pkl')\n",
    "X_test = pd.read_pickle('Datasets/X_test.pkl')\n",
    "\n",
    "y_train = pd.read_pickle('Datasets/y_train.pkl')\n",
    "y_val = pd.read_pickle('Datasets/y_val.pkl')\n",
    "y_test = pd.read_pickle('Datasets/y_test.pkl')"
   ]
  },
  {
   "cell_type": "code",
   "execution_count": 3,
   "id": "dbff8ea6",
   "metadata": {},
   "outputs": [],
   "source": [
    "from sklearn.metrics import mean_squared_error\n",
    "from sklearn.metrics import mean_absolute_error\n",
    "from sklearn.metrics import r2_score"
   ]
  },
  {
   "cell_type": "code",
   "execution_count": 4,
   "id": "edabab4e",
   "metadata": {},
   "outputs": [],
   "source": [
    "def evaluate_model():\n",
    "    print(\"The Mean Absolute Error for the training set: \", mean_absolute_error(y_train,y_train_pred))\n",
    "    print(\"The Mean Absolute Error for the validation set: \", mean_absolute_error(y_val,y_val_pred))\n",
    "    print(\"The Mean Squared Error for the training set: \", mean_squared_error(y_train,y_train_pred))\n",
    "    print(\"The Mean Squared Error for the validation set: \", mean_squared_error(y_val,y_val_pred))\n",
    "    print(\"The R Squared value for the training set: \", r2_score(y_train,y_train_pred))\n",
    "    print(\"The R Squared value for the validation set: \", r2_score(y_val,y_val_pred))"
   ]
  },
  {
   "cell_type": "code",
   "execution_count": 5,
   "id": "54663d0a",
   "metadata": {},
   "outputs": [],
   "source": [
    "from sklearn.linear_model import LinearRegression"
   ]
  },
  {
   "cell_type": "code",
   "execution_count": 6,
   "id": "0b431cb9",
   "metadata": {},
   "outputs": [
    {
     "data": {
      "text/plain": [
       "LinearRegression()"
      ]
     },
     "execution_count": 6,
     "metadata": {},
     "output_type": "execute_result"
    }
   ],
   "source": [
    "linmodel = LinearRegression()\n",
    "linmodel.fit(X_train, y_train)"
   ]
  },
  {
   "cell_type": "code",
   "execution_count": 7,
   "id": "510b2930",
   "metadata": {},
   "outputs": [],
   "source": [
    "y_train_pred = linmodel.predict(X_train)\n",
    "y_val_pred = linmodel.predict(X_val)"
   ]
  },
  {
   "cell_type": "code",
   "execution_count": 8,
   "id": "64466a92",
   "metadata": {},
   "outputs": [
    {
     "name": "stdout",
     "output_type": "stream",
     "text": [
      "The Mean Absolute Error for the training set:  0.6138414866602719\n",
      "The Mean Absolute Error for the validation set:  0.6257516089343019\n",
      "The Mean Squared Error for the training set:  0.6338784448620909\n",
      "The Mean Squared Error for the validation set:  0.6497614146271301\n",
      "The R Squared value for the training set:  0.7163530223666699\n",
      "The R Squared value for the validation set:  0.7227940251941365\n"
     ]
    }
   ],
   "source": [
    "evaluate_model()"
   ]
  },
  {
   "cell_type": "code",
   "execution_count": 9,
   "id": "64f0b93c",
   "metadata": {},
   "outputs": [],
   "source": [
    "from sklearn.svm import SVR"
   ]
  },
  {
   "cell_type": "code",
   "execution_count": 10,
   "id": "46c8cbfc",
   "metadata": {},
   "outputs": [
    {
     "data": {
      "text/plain": [
       "SVR()"
      ]
     },
     "execution_count": 10,
     "metadata": {},
     "output_type": "execute_result"
    }
   ],
   "source": [
    "svmmodel = SVR()\n",
    "svmmodel.fit(X_train, y_train)"
   ]
  },
  {
   "cell_type": "code",
   "execution_count": 11,
   "id": "44a5a2a6",
   "metadata": {},
   "outputs": [],
   "source": [
    "y_train_pred = svmmodel.predict(X_train)\n",
    "y_val_pred = svmmodel.predict(X_val)"
   ]
  },
  {
   "cell_type": "code",
   "execution_count": 12,
   "id": "ae329b85",
   "metadata": {},
   "outputs": [
    {
     "name": "stdout",
     "output_type": "stream",
     "text": [
      "The Mean Absolute Error for the training set:  0.5090156666504422\n",
      "The Mean Absolute Error for the validation set:  0.5530142749434883\n",
      "The Mean Squared Error for the training set:  0.4929567108331118\n",
      "The Mean Squared Error for the validation set:  0.5437240894966548\n",
      "The R Squared value for the training set:  0.7794124689595643\n",
      "The R Squared value for the validation set:  0.7680324456618519\n"
     ]
    }
   ],
   "source": [
    "evaluate_model()"
   ]
  }
 ],
 "metadata": {
  "kernelspec": {
   "display_name": "Python 3 (ipykernel)",
   "language": "python",
   "name": "python3"
  },
  "language_info": {
   "codemirror_mode": {
    "name": "ipython",
    "version": 3
   },
   "file_extension": ".py",
   "mimetype": "text/x-python",
   "name": "python",
   "nbconvert_exporter": "python",
   "pygments_lexer": "ipython3",
   "version": "3.9.13"
  }
 },
 "nbformat": 4,
 "nbformat_minor": 5
}
